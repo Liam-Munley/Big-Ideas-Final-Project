{
 "cells": [
  {
   "cell_type": "code",
   "execution_count": 54,
   "metadata": {},
   "outputs": [
    {
     "name": "stdout",
     "output_type": "stream",
     "text": [
      "{'Mount Oliver Borough': 1, 'Strip District': 1, 'Chartiers City': 1, 'Glen Hazel': 1, 'Larimer': 1, 'Bluff': 1, 'Manchester': 1, 'East Liberty': 1, 'Bon Air': 2, 'St. Clair': 2, 'Windgap': 2, 'East Carnegie': 2, 'Shadyside': 2, 'South Shore': 2, 'Point Breeze North': 2, 'Central Northside': 3, 'Ridgemont': 3, 'Esplen': 3, 'North Shore': 3, 'Allegheny West': 3, 'North Oakland': 4, 'East Allegheny': 4, 'Crawford-Roberts': 4, 'Regent Square': 4, 'Central Oakland': 5, 'West End': 5, 'Terrace Village': 5, 'Oakwood': 5, 'Bedford Dwellings': 6, 'West Oakland': 6, 'Allegheny Center': 6, 'Banksville': 7, 'Morningside': 7, 'Squirrel Hill North': 7, 'Mt. Oliver': 7, 'Bloomfield': 7, 'Lincoln Place': 7, 'Central Business District': 7, 'Knoxville': 8, 'Point Breeze': 8, 'South Side Flats': 8, 'California-Kirkbride': 9, 'Homewood North': 9, 'Crafton Heights': 9, 'East Hills': 9, 'Central Lawrenceville': 9, 'South Oakland': 10, 'Middle Hill': 11, 'Upper Lawrenceville': 12, 'Lincoln-Lemington-Belmar': 12, 'Stanton Heights': 13, 'Spring Garden': 13, 'Brighton Heights': 13, 'Westwood': 14, 'Arlington': 15, 'Garfield': 15, 'Lower Lawrenceville': 17, 'Troy Hill': 18, 'Fineview': 18, 'Overbrook': 19, 'Polish Hill': 20, 'Spring Hill-City View': 20, 'Upper Hill': 21, 'Hazelwood': 21, 'Allentown': 23, 'Duquesne Heights': 24, 'Squirrel Hill South': 28, 'Highland Park': 28, 'Marshall-Shadeland': 32, 'Beltzhoover': 32, 'Sheraden': 35, 'Perry South': 35, 'Elliott': 36, 'Brookline': 38, 'Carrick': 39, 'Greenfield': 40, 'Beechview': 42, 'Perry North': 48, 'Mount Washington': 54, 'South Side Slopes': 109}\n"
     ]
    }
   ],
   "source": [
    "import pandas as pd\n",
    "import numpy as np\n",
    "import geopandas\n",
    "%matplotlib inline\n",
    "import matplotlib.pyplot as plt\n",
    "\n",
    "# neighborhood column focus\n",
    "steps = pd.read_csv(\"steps.csv\", index_col=\"neighborhood\", parse_dates=True)\n",
    "\n",
    "# initialize dictionary\n",
    "neighborhoods = dict()\n",
    "\n",
    "# add up number of steps/stairways per neighborhood\n",
    "for name in steps.index:\n",
    "    if name not in neighborhoods:\n",
    "        neighborhoods[name] = 1\n",
    "    else:\n",
    "        neighborhoods[name] += 1\n",
    "\n",
    "# sorts the neighborhood based on item[1], the value/#steps in dict.\n",
    "sorted_neighborhoods = dict(sorted(neighborhoods.items(), key=lambda item: item[1]))\n",
    "\n",
    "print(sorted_neighborhoods)"
   ]
  },
  {
   "cell_type": "code",
   "execution_count": 55,
   "metadata": {},
   "outputs": [
    {
     "name": "stdout",
     "output_type": "stream",
     "text": [
      "{'Fineview': [78], 'Fairywood': [40], 'South Side Flats': [426], 'Allegheny Center': [88], 'Lincoln-Lemington-Belmar': [333], 'Carrick': [477], 'Beechview': [229], 'Allentown': [218], 'Beltzhoover': [222], 'Crafton Heights': [143], 'Homewood North': [305], 'Squirrel Hill South': [401], 'Perry North': [178], 'Bedford Dwellings': [82], 'Homewood South': [316], 'East Allegheny': [220], 'Crawford-Roberts': [178], 'Sheraden': [286], 'Middle Hill': [181], 'Strip District': [104], 'East Hills': [260], 'Garfield': [191], 'Greenfield': [179], 'North Shore': [78], 'Spring Hill-City View': [169], 'Central Business District': [459], 'Upper Hill': [88], 'Manchester': [130], 'Overbrook': [82], 'Polish Hill': [53], 'Central Lawrenceville': [120], 'Brookline': [298], 'Marshall-Shadeland': [235], 'North Oakland': [233], 'South Oakland': [147], 'Homewood West': [93], 'East Liberty': [336], 'Hazelwood': [370], 'Squirrel Hill North': [244], 'Friendship': [46], 'West Oakland': [98], 'Terrace Village': [139], 'Brighton Heights': [261], 'Troy Hill': [134], 'Windgap': [33], 'Knoxville': [316], 'Upper Lawrenceville': [84], 'Arlington': [81], 'Elliott': [108], 'South Side Slopes': [151], 'Bloomfield': [278], 'Perry South': [285], 'Central Northside': [222], 'Point Breeze': [111], 'Bluff': [231], 'Mount Washington': [348], 'Point Breeze North': [87], 'Swisshelm Park': [24], 'Banksville': [87], 'Shadyside': [326], 'Spring Garden': [35], 'Regent Square': [13], 'Allegheny West': [58], 'Lower Lawrenceville': [92], 'Larimer': [203], 'Highland Park': [116], 'Stanton Heights': [92], 'Bon Air': [28], 'Glen Hazel': [36], 'Lincoln Place': [92], 'West End': [31], 'Central Oakland': [163], 'Ridgemont': [13], 'Westwood': [43], 'Summer Hill': [31], 'Esplen': [36], 'Morningside': [42], 'Hays': [30], 'Duquesne Heights': [68], 'California-Kirkbride': [63], 'Northview Heights': [105], 'New Homestead': [23], 'Chateau': [52], 'Mt. Oliver': [27], 'St. Clair': [17], 'East Carnegie': [20], 'Arlington Heights': [23], 'South Shore': [29], 'Oakwood': [22], 'Chartiers City': [25]}\n"
     ]
    }
   ],
   "source": [
    "import geopandas as gpd\n",
    "import pandas as pd\n",
    "import matplotlib.pyplot as plt\n",
    "\n",
    "fires=pd.read_csv(r\"fires/fireincidents.csv\")\n",
    "fires=fires[pd.isna(fires['neighborhood'])==False]\n",
    "fires['neighborhood'].replace(\"Mount Oliver Borough\",\"Mt. Oliver\",inplace=True)\n",
    "\n",
    "neighborhoods=gpd.read_file(r\"neighborhoods/Neighborhoods_.shp\")\n",
    "weighted_fires=pd.DataFrame({'hood':fires['neighborhood'].unique()})\n",
    "weighted_fires['weighted_fires'] = weighted_fires['hood'].apply(\n",
    "    lambda nb:sum( fires[fires['neighborhood']==nb][\"alarms\"]+1)\n",
    ")\n",
    "\n",
    "fireDict = weighted_fires.set_index('hood').T.to_dict('list')\n",
    "print(fireDict)"
   ]
  },
  {
   "cell_type": "code",
   "execution_count": 56,
   "metadata": {},
   "outputs": [
    {
     "name": "stdout",
     "output_type": "stream",
     "text": [
      "{'Polish Hill': 15894.0, 'Squirrel Hill South': 79302.0, 'Central Northside': 5945.0, 'Bluff': 5365.0, 'Crafton Heights': 11500.0, 'Shadyside': 66132.0, 'Highland Park': 23471.0, 'North Shore': 10350.0, 'East Liberty': 51247.0, 'Mount Washington': 47336.0, 'Brookline': 39144.0, 'Squirrel Hill North': 35452.0, 'Bloomfield': 43101.0, 'Larimer': 37713.0, 'Friendship': 4887.0, 'Point Breeze': 31242.0, 'Regent Square': 16729.0, 'Central Lawrenceville': 13499.0, 'Knoxville': 7646.0, 'Central Oakland': 11306.0, 'Strip District': 29075.0, 'Greenfield': 7158.0, 'Windgap': 3062.0, 'Beechview': 4255.0, 'Upper Hill': 2860.0, 'Stanton Heights': 16272.0, 'Manchester': 21293.0, 'South Side Slopes': 26447.0, 'Perry North': 19114.0, 'North Oakland': 23821.0, 'East Hills': 16253.0, 'Duquesne Heights': 5831.0, 'Sheraden': 8532.0, 'Morningside': 14345.0, 'Central Business District': 2305.0, 'St. Clair': 2436.0, 'Perry South': 12075.0, 'Elliott': 4028.0, 'Carrick': 13787.0, 'Westwood': 15400.0, 'Allegheny Center': 2386.0, 'East Allegheny': 1924.0, 'Overbrook': 777.0, 'Allegheny West': 477.0, 'Marshall-Shadeland': 15520.0, 'Lower Lawrenceville': 3472.0, 'Arlington': 4571.0, 'Homewood North': 7027.0, 'Homewood South': 42742.0, 'Point Breeze North': 9928.0, 'Beltzhoover': 1577.0, 'Brighton Heights': 7547.0, 'California-Kirkbride': 14926.0, 'Spring Garden': 1226.0, 'Hazelwood': 2579.0, 'Spring Hill-City View': 2586.0, 'Fineview': 419.0, 'South Side Flats': 115.0, 'Lincoln-Lemington-Belmar': 195.0, 'New Homestead': 666.0, 'Lincoln Place': 126.0, 'Chartiers City': 2571.0, nan: 4184.0, 'Summer Hill': 937.0, 'West Oakland': 2585.0}\n"
     ]
    }
   ],
   "source": [
    "import pandas as pd\n",
    "import numpy as np\n",
    "import geopandas\n",
    "%matplotlib inline\n",
    "import matplotlib.pyplot as plt\n",
    "\n",
    "trafRaw = pd.read_csv(\"PittTraffic.csv\")\n",
    "trafRaw.head()\n",
    "traf = trafRaw[trafRaw['average_daily_car_traffic'].notna()]\n",
    "\n",
    "neighborhoods = dict()\n",
    "i = 0\n",
    "for name in traf.iloc[:, 18]:\n",
    "    if name not in neighborhoods:\n",
    "        if traf.iat[i, 6]!= 0:\n",
    "            neighborhoods[name] = traf.iat[i, 6]\n",
    "            #print(\"here\\n\")\n",
    "        else: \n",
    "            neighborhoods[name] = 0\n",
    "            #print(\"or here\\n\")\n",
    "    else:\n",
    "        if traf.iat[i, 6]!= 0:\n",
    "            neighborhoods[name] += traf.iat[i, 6]\n",
    "            #print(\"or maybe\\n\")\n",
    "        else:\n",
    "            neighborhoods[name] += 0\n",
    "            #print(\"pls here\\n\")\n",
    "    i += 1\n",
    "print(neighborhoods)\n"
   ]
  },
  {
   "cell_type": "code",
   "execution_count": 58,
   "metadata": {},
   "outputs": [
    {
     "ename": "AttributeError",
     "evalue": "'int' object has no attribute 'get'",
     "output_type": "error",
     "traceback": [
      "\u001b[0;31m---------------------------------------------------------------------------\u001b[0m",
      "\u001b[0;31mAttributeError\u001b[0m                            Traceback (most recent call last)",
      "\u001b[0;32m<ipython-input-58-3112e23d519e>\u001b[0m in \u001b[0;36m<module>\u001b[0;34m\u001b[0m\n\u001b[1;32m      3\u001b[0m     \u001b[0;32mif\u001b[0m \u001b[0mx\u001b[0m \u001b[0;32min\u001b[0m \u001b[0msorted_neighborhoods\u001b[0m\u001b[0;34m:\u001b[0m\u001b[0;34m\u001b[0m\u001b[0;34m\u001b[0m\u001b[0m\n\u001b[1;32m      4\u001b[0m         \u001b[0;32mif\u001b[0m \u001b[0mx\u001b[0m \u001b[0;32min\u001b[0m \u001b[0mfireDict\u001b[0m\u001b[0;34m:\u001b[0m\u001b[0;34m\u001b[0m\u001b[0;34m\u001b[0m\u001b[0m\n\u001b[0;32m----> 5\u001b[0;31m             \u001b[0mfireNum\u001b[0m \u001b[0;34m=\u001b[0m \u001b[0;36m0.9\u001b[0m\u001b[0;34m*\u001b[0m\u001b[0;34m(\u001b[0m\u001b[0mfireNum\u001b[0m\u001b[0;34m.\u001b[0m\u001b[0mget\u001b[0m\u001b[0;34m(\u001b[0m\u001b[0mx\u001b[0m\u001b[0;34m)\u001b[0m\u001b[0;34m[\u001b[0m\u001b[0;36m0\u001b[0m\u001b[0;34m]\u001b[0m\u001b[0;34m)\u001b[0m\u001b[0;34m\u001b[0m\u001b[0;34m\u001b[0m\u001b[0m\n\u001b[0m\u001b[1;32m      6\u001b[0m             \u001b[0mstepNum\u001b[0m \u001b[0;34m=\u001b[0m \u001b[0;36m0.5\u001b[0m\u001b[0;34m*\u001b[0m\u001b[0;34m(\u001b[0m\u001b[0msorted_neighborhoods\u001b[0m\u001b[0;34m.\u001b[0m\u001b[0mget\u001b[0m\u001b[0;34m(\u001b[0m\u001b[0mx\u001b[0m\u001b[0;34m)\u001b[0m\u001b[0;34m)\u001b[0m\u001b[0;34m\u001b[0m\u001b[0;34m\u001b[0m\u001b[0m\n\u001b[1;32m      7\u001b[0m             \u001b[0mtrafNum\u001b[0m \u001b[0;34m=\u001b[0m \u001b[0;36m0.7\u001b[0m\u001b[0;34m*\u001b[0m\u001b[0;34m(\u001b[0m\u001b[0mneighborhoods\u001b[0m\u001b[0;34m.\u001b[0m\u001b[0mget\u001b[0m\u001b[0;34m(\u001b[0m\u001b[0mx\u001b[0m\u001b[0;34m)\u001b[0m\u001b[0;34m)\u001b[0m\u001b[0;34m\u001b[0m\u001b[0;34m\u001b[0m\u001b[0m\n",
      "\u001b[0;31mAttributeError\u001b[0m: 'int' object has no attribute 'get'"
     ]
    }
   ],
   "source": [
    "weighted = dict()\n",
    "for x in neighborhoods:\n",
    "    if x in sorted_neighborhoods:\n",
    "        if x in fireDict:\n",
    "            fireNum = 0.9*(fireDict.get(x)[0])\n",
    "            stepNum = 0.5*(sorted_neighborhoods.get(x))\n",
    "            trafNum = 0.7*(neighborhoods.get(x))\n",
    "            weighted[x] = (stepNum + trafNum + fireNum)\n",
    "\n",
    "sorted_weight = dict(sorted(weighted.items(), key=lambda item: item[1]))\n",
    "print(sorted_weight)\n",
    "\n",
    "count = 0\n",
    "for name in sorted_weight:\n",
    "    if count<10:\n",
    "        print(name)\n",
    "    count += 1\n",
    "\n",
    "fig, ax = plt.subplots(figsize=(12, 5))\n",
    "ax.bar(sorted_weight.keys(), sorted_weight.values())\n",
    "ax.set_title(\"Weighted Value of Neighborhoods\")\n",
    "plt.xticks(rotation=90)\n",
    "\n",
    "plt.show()"
   ]
  },
  {
   "cell_type": "code",
   "execution_count": null,
   "metadata": {},
   "outputs": [],
   "source": []
  },
  {
   "cell_type": "code",
   "execution_count": null,
   "metadata": {},
   "outputs": [],
   "source": []
  }
 ],
 "metadata": {
  "kernelspec": {
   "display_name": "Python 3",
   "language": "python",
   "name": "python3"
  },
  "language_info": {
   "codemirror_mode": {
    "name": "ipython",
    "version": 3
   },
   "file_extension": ".py",
   "mimetype": "text/x-python",
   "name": "python",
   "nbconvert_exporter": "python",
   "pygments_lexer": "ipython3",
   "version": "3.8.3"
  }
 },
 "nbformat": 4,
 "nbformat_minor": 4
}
