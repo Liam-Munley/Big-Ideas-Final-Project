{
 "cells": [
  {
   "cell_type": "markdown",
   "metadata": {},
   "source": [
    "Data Set: Fire Incidents in City of Pittsburgh  https://data.wprdc.org/dataset/fire-incidents-in-city-of-pittsburgh\n",
    "\n",
    "Using the number of fires weighted by the response as indicated by the alarm type of the fire we can find the neighborhoods that have the most fires and the associated danger and disruption."
   ]
  },
  {
   "cell_type": "code",
   "execution_count": null,
   "metadata": {},
   "outputs": [],
   "source": [
    "!pip install --upgrade geopandas"
   ]
  },
  {
   "cell_type": "code",
   "execution_count": null,
   "metadata": {},
   "outputs": [],
   "source": [
    "import geopandas as gpd\n",
    "import pandas as pd\n",
    "import matplotlib.pyplot as plt"
   ]
  },
  {
   "cell_type": "code",
   "execution_count": null,
   "metadata": {},
   "outputs": [],
   "source": [
    "fires=pd.read_csv(r\"fires/fireincidents.csv\")\n",
    "fires=fires[pd.isna(fires['neighborhood'])==False]\n",
    "fires['neighborhood'].replace(\"Mount Oliver Borough\",\"Mt. Oliver\",inplace=True)"
   ]
  },
  {
   "cell_type": "code",
   "execution_count": null,
   "metadata": {},
   "outputs": [],
   "source": [
    "neighborhoods=gpd.read_file(r\"neighborhoods/Neighborhoods_.shp\")\n",
    "weighted_fires=pd.DataFrame({'hood':fires['neighborhood'].unique()})\n",
    "weighted_fires['weighted_fires'] = weighted_fires['hood'].apply(\n",
    "    lambda nb:sum( fires[fires['neighborhood']==nb][\"alarms\"]+1)\n",
    ")\n",
    "fire_map = neighborhoods.merge(weighted_fires)\n",
    "fire_map.plot(\n",
    "    column='weighted_fires', legend=True,cmap=\"inferno\",missing_kwds={\"color\": \"tgrey\"})\n",
    "plt.title(\"Number of fires weighted by the alarm type\");"
   ]
  },
  {
   "cell_type": "code",
   "execution_count": null,
   "metadata": {},
   "outputs": [],
   "source": [
    "weighted_fires.sort_values(\"weighted_fires\").plot(kind='bar',x='hood',figsize=(14,4));"
   ]
  },
  {
   "cell_type": "markdown",
   "metadata": {},
   "source": [
    "Based on minimizing fire disruption, Ridgemont is the best neighborhood"
   ]
  }
 ],
 "metadata": {
  "kernelspec": {
   "display_name": "Python 3",
   "language": "python",
   "name": "python3"
  },
  "language_info": {
   "codemirror_mode": {
    "name": "ipython",
    "version": 3
   },
   "file_extension": ".py",
   "mimetype": "text/x-python",
   "name": "python",
   "nbconvert_exporter": "python",
   "pygments_lexer": "ipython3",
   "version": "3.8.3"
  }
 },
 "nbformat": 4,
 "nbformat_minor": 4
}
