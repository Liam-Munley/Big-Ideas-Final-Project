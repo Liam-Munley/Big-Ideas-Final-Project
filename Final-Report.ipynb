{
 "cells": [
  {
   "cell_type": "markdown",
   "metadata": {},
   "source": [
    "Best neighborhood will be determined by a weighted average of values taked from each of the datasets. The count of fires per neighborhood will be given the greatest weights, followed by daily traffic, and finally the number of steps. The final counts will be used to find the safest, and therefore best, neighborhood. "
   ]
  },
  {
   "cell_type": "code",
   "execution_count": null,
   "metadata": {},
   "outputs": [],
   "source": [
    "!pip install --upgrade geopandas"
   ]
  },
  {
   "cell_type": "code",
   "execution_count": null,
   "metadata": {},
   "outputs": [],
   "source": [
    "import geopandas as gpd\n",
    "import pandas as pd\n",
    "import matplotlib.pyplot as plt\n",
    "import ipywidgets as widgets"
   ]
  },
  {
   "cell_type": "code",
   "execution_count": null,
   "metadata": {},
   "outputs": [],
   "source": [
    "fires=pd.read_csv(r\"fires/fireincidents.csv\")\n",
    "fires=fires[pd.isna(fires['neighborhood'])==False]\n",
    "fires['neighborhood'].replace(\"Mount Oliver Borough\",\"Mt. Oliver\",inplace=True)\n",
    "neighborhoods=gpd.read_file(r\"neighborhoods/Neighborhoods_.shp\")\n",
    "weighted_fires=pd.DataFrame({'hood':fires['neighborhood'].unique()})\n",
    "weighted_fires['weighted_fires'] = weighted_fires['hood'].apply(\n",
    "    lambda nb:sum( fires[fires['neighborhood']==nb][\"alarms\"]+1)\n",
    ")\n",
    "fire_map = neighborhoods.merge(weighted_fires)\n",
    "fire_map.plot(\n",
    "    column='weighted_fires', legend=True,cmap=\"inferno\",missing_kwds={\"color\": \"tgrey\"})\n",
    "plt.title(\"Number of fires weighted by the alarm type\");\n",
    "weighted_fires.sort_values(\"weighted_fires\").plot(kind='bar',x='hood',figsize=(14,4));"
   ]
  },
  {
   "cell_type": "code",
   "execution_count": null,
   "metadata": {},
   "outputs": [],
   "source": [
    "\n",
    "trafRaw = pd.read_csv(\"PittTraffic.csv\")\n",
    "trafRaw.head()\n",
    "traf = trafRaw[trafRaw['average_daily_car_traffic'].notna()]\n",
    "\n",
    "neighborhoods = dict()\n",
    "i = 0\n",
    "for name in traf.iloc[:, 18]:\n",
    "    if name not in neighborhoods:\n",
    "        if traf.iat[i, 6]!= 0:\n",
    "            neighborhoods[name] = traf.iat[i, 6]\n",
    "            #print(\"here\\n\")\n",
    "        else: \n",
    "            neighborhoods[name] = 0\n",
    "            #print(\"or here\\n\")\n",
    "    else:\n",
    "        if traf.iat[i, 6]!= 0:\n",
    "            neighborhoods[name] += traf.iat[i, 6]\n",
    "            #print(\"or maybe\\n\")\n",
    "        else:\n",
    "            neighborhoods[name] += 0\n",
    "            #print(\"pls here\\n\")\n",
    "    i += 1\n",
    "print(neighborhoods)\n",
    "\n",
    "num_cars = traf.groupby(\"neighborhood\").sum()['average_daily_car_traffic']\n",
    "num_cars = pd.DataFrame(num_cars)\n",
    "num_cars = num_cars.sort_values('average_daily_car_traffic', ascending=True)\n",
    "num_cars.plot.bar(figsize=(12,12))"
   ]
  },
  {
   "cell_type": "code",
   "execution_count": null,
   "metadata": {},
   "outputs": [],
   "source": [
    "steps = pd.read_csv(\"steps.csv\", index_col=\"neighborhood\", parse_dates=True)\n",
    "\n",
    "neighborhoods = dict()\n",
    "\n",
    "for name in steps.index:\n",
    "    if name not in neighborhoods:\n",
    "        neighborhoods[name] = 1\n",
    "    else:\n",
    "        neighborhoods[name] += 1\n",
    "\n",
    "sorted_neighborhoods = dict(sorted(neighborhoods.items(), key=lambda item: item[1]))\n",
    "\n",
    "print(sorted_neighborhoods)\n",
    "\n",
    "fig, ax = plt.subplots(figsize=(20, 10))\n",
    "ax.bar(sorted_neighborhoods.keys(), sorted_neighborhoods.values())\n",
    "ax.set_title(\"Number of Steps/Stairways in Each Neighborhood\")\n",
    "plt.xticks(rotation=90)\n",
    "plt.show()"
   ]
  },
  {
   "cell_type": "code",
   "execution_count": null,
   "metadata": {},
   "outputs": [],
   "source": [
    "combined=pd.merge(pd.merge(fire_map,\n",
    "            pd.Series(sorted_neighborhoods).to_frame().reset_index().rename(columns={'index':'hood',0:'steps'})),num_cars.reset_index().rename(columns={'neighborhood':'hood'}))"
   ]
  },
  {
   "cell_type": "code",
   "execution_count": null,
   "metadata": {},
   "outputs": [],
   "source": [
    "\n",
    "combined.plot(column='average_daily_car_traffic', legend=True,cmap=\"inferno\",missing_kwds={\"color\": \"tgrey\"})\n",
    "plt.title(\"Average Daily Car Traffic\")\n",
    "combined.plot(column='steps', legend=True,cmap=\"inferno\",missing_kwds={\"color\": \"tgrey\"})\n",
    "plt.title(\"Number of Steps/Stairways\")"
   ]
  },
  {
   "cell_type": "code",
   "execution_count": null,
   "metadata": {},
   "outputs": [],
   "source": [
    "from IPython.display import clear_output, display\n",
    "from functools import cache\n",
    "import numpy as np\n",
    "df=combined.dropna(subset=['steps','average_daily_car_traffic','weighted_fires'])\n",
    "def minimax(col):\n",
    "    return (col-col.min())/(col.max()-col.min())\n",
    "def z_score(col):\n",
    "    return (col-col.mean())/col.std()\n",
    "def identity(col):\n",
    "    return col\n",
    "def log(col):\n",
    "    return col.apply(lambda x: np.log(x+1))\n",
    "df.set_index('hood',inplace=True)\n",
    "df.rename(columns={'average_daily_car_traffic':'Average Daily Car Traffic','steps':'Number of Steps','weighted_fires':'Response Weighted Fires'},inplace=True)\n",
    "for metric in ['Average Daily Car Traffic','Number of Steps','Response Weighted Fires']:\n",
    "    for scaling in [minimax,z_score,identity,log]:\n",
    "        df[f'{scaling.__name__} {metric}']=scaling(df[metric])\n",
    "\n",
    "\n"
   ]
  },
  {
   "cell_type": "code",
   "execution_count": null,
   "metadata": {},
   "outputs": [],
   "source": [
    "\n",
    "def plot_weights(car_weight,steps_weight,fire_weight,sort_score=False,normalization=\"minimax\"):\n",
    "    clear_output(wait=True)\n",
    "    global df    \n",
    "    metrics=['Average Daily Car Traffic','Number of Steps','Response Weighted Fires']\n",
    "    weights=car_weight,steps_weight,fire_weight\n",
    "    for metric,weight in zip(metrics,weights):\n",
    "        df[f'Weighted {normalization} {metric}']=df[f'{normalization} {metric}']*weight\n",
    "    df['score']=df[[f'Weighted {normalization} {metric}' for metric in metrics]].sum(axis=1)\n",
    "    if sort_score:\n",
    "        df=df.sort_values('score',ascending=False)\n",
    "    else:\n",
    "        df=df.sort_index()\n",
    "    fig, (ax0,ax1) = plt.subplots(1,2)\n",
    "    df[[f'Weighted {normalization} {metric}' for metric in metrics]].plot(kind='barh',figsize=(14,8),stacked=True,ax=ax0)\n",
    "    ax0.set_title(\"Weights for Normalized Features\")\n",
    "    ax0.legend(loc='lower left', bbox_to_anchor=(-0.05,- 0.2))\n",
    "    ax1.set_title(\"Total Score\")\n",
    "    df.plot(column='score', legend=True,missing_kwds={\"color\": \"tgrey\"},ax=ax1)\n",
    "widgets.interact(plot_weights,\n",
    "                 car_weight=widgets.FloatSlider(min=0, max=10, step=0.01, value=1),\n",
    "                 steps_weight=widgets.FloatSlider(min=0, max=10, step=0.01, value=1),\n",
    "                 fire_weight=widgets.FloatSlider(min=0, max=10, step=0.01, value=1),\n",
    "                 sort_score=widgets.Checkbox(value=False),\n",
    "                 normalization=widgets.Dropdown(options=[\"minimax\",\"z_score\",\"identity\",\"log\"],value=\"minimax\")\n",
    "                 );"
   ]
  }
 ],
 "metadata": {
  "kernelspec": {
   "display_name": "Python 3",
   "language": "python",
   "name": "python3"
  },
  "language_info": {
   "codemirror_mode": {
    "name": "ipython",
    "version": 3
   },
   "file_extension": ".py",
   "mimetype": "text/x-python",
   "name": "python",
   "nbconvert_exporter": "python",
   "pygments_lexer": "ipython3",
   "version": "3.11.8"
  }
 },
 "nbformat": 4,
 "nbformat_minor": 4
}
